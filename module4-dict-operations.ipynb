{
 "cells": [
  {
   "cell_type": "code",
   "execution_count": 1,
   "id": "b595d3d5-bc27-46ae-87f6-818fc8e94961",
   "metadata": {},
   "outputs": [],
   "source": [
    "grades = {}"
   ]
  },
  {
   "cell_type": "code",
   "execution_count": 4,
   "id": "6fb0f63a-6903-43f9-bf76-9204b2e7131c",
   "metadata": {},
   "outputs": [],
   "source": [
    "grades['John'] = 'A-'"
   ]
  },
  {
   "cell_type": "code",
   "execution_count": 5,
   "id": "ecc41e8c-b9bd-48db-8290-730c82f5bae3",
   "metadata": {},
   "outputs": [],
   "source": [
    "grades['Anne'] = 'B'"
   ]
  },
  {
   "cell_type": "code",
   "execution_count": 6,
   "id": "6999fec2-27b0-40c0-b35d-e619f0be124a",
   "metadata": {},
   "outputs": [
    {
     "name": "stdout",
     "output_type": "stream",
     "text": [
      "{'John': 'A-', 'Anne': 'B'}\n"
     ]
    }
   ],
   "source": [
    "print(grades)"
   ]
  },
  {
   "cell_type": "code",
   "execution_count": 7,
   "id": "f3442de2-a7d8-4fb0-a1ae-420b0d98f903",
   "metadata": {},
   "outputs": [],
   "source": [
    "grades.update({'John':'A'})"
   ]
  },
  {
   "cell_type": "code",
   "execution_count": 8,
   "id": "5702284a-7d1c-4da9-8705-ea6b3670f204",
   "metadata": {},
   "outputs": [
    {
     "name": "stdout",
     "output_type": "stream",
     "text": [
      "{'John': 'A', 'Anne': 'B'}\n"
     ]
    }
   ],
   "source": [
    "print(grades)"
   ]
  },
  {
   "cell_type": "code",
   "execution_count": 9,
   "id": "54291e57-20d4-4aa5-bd0d-46c3799250f3",
   "metadata": {},
   "outputs": [
    {
     "data": {
      "text/plain": [
       "2"
      ]
     },
     "execution_count": 9,
     "metadata": {},
     "output_type": "execute_result"
    }
   ],
   "source": [
    "len(grades)"
   ]
  },
  {
   "cell_type": "code",
   "execution_count": 11,
   "id": "e85b7d90-4297-405f-a070-a754101f0276",
   "metadata": {},
   "outputs": [
    {
     "name": "stdout",
     "output_type": "stream",
     "text": [
      "{'Anne': 'B'}\n"
     ]
    }
   ],
   "source": [
    "del grades['John']\n",
    "print(grades)"
   ]
  },
  {
   "cell_type": "code",
   "execution_count": 12,
   "id": "241a880a-7ae1-41ea-b69e-5f312f4b4a97",
   "metadata": {},
   "outputs": [
    {
     "name": "stdout",
     "output_type": "stream",
     "text": [
      "Anne\n"
     ]
    }
   ],
   "source": [
    "for el in grades:\n",
    "    print(el)"
   ]
  },
  {
   "cell_type": "code",
   "execution_count": 14,
   "id": "ed2ccd6a-5fae-48de-80e5-62f946908b26",
   "metadata": {},
   "outputs": [
    {
     "name": "stdout",
     "output_type": "stream",
     "text": [
      "Anne\n"
     ]
    }
   ],
   "source": [
    "for el in grades.keys():\n",
    "    print(el)"
   ]
  },
  {
   "cell_type": "code",
   "execution_count": null,
   "id": "81eded71-20d4-4cea-aa8a-5b0e54ca6f82",
   "metadata": {},
   "outputs": [],
   "source": []
  }
 ],
 "metadata": {
  "kernelspec": {
   "display_name": "Python 3 (ipykernel)",
   "language": "python",
   "name": "python3"
  },
  "language_info": {
   "codemirror_mode": {
    "name": "ipython",
    "version": 3
   },
   "file_extension": ".py",
   "mimetype": "text/x-python",
   "name": "python",
   "nbconvert_exporter": "python",
   "pygments_lexer": "ipython3",
   "version": "3.10.16"
  }
 },
 "nbformat": 4,
 "nbformat_minor": 5
}
