{
 "cells": [
  {
   "cell_type": "code",
   "execution_count": 1,
   "id": "8ca1bc59-5848-43cb-a526-24ee5ba92abe",
   "metadata": {},
   "outputs": [
    {
     "name": "stdout",
     "output_type": "stream",
     "text": [
      "Current city: New York City\n",
      "Current city: Los Angeles\n",
      "Current city: Chicago\n"
     ]
    }
   ],
   "source": [
    "top_cities = ['New York City', 'Los Angeles', 'Chicago']\n",
    "for city in top_cities:\n",
    "    print('Current city:', city)"
   ]
  },
  {
   "cell_type": "code",
   "execution_count": 2,
   "id": "750baa85-8a48-4949-ba33-4b7ac9d959b9",
   "metadata": {},
   "outputs": [
    {
     "name": "stdout",
     "output_type": "stream",
     "text": [
      "Current city: Chicago\n",
      "Current city: Chicago\n",
      "Current city: Chicago\n"
     ]
    }
   ],
   "source": [
    "top_cities = ['New York City', 'Los Angeles', 'Chicago']\n",
    "for city_index in range(len(top_cities)):\n",
    "    print('Current city:', city)"
   ]
  },
  {
   "cell_type": "code",
   "execution_count": 5,
   "id": "4379d74f-7bbe-4f83-bff1-502c0e2a9d56",
   "metadata": {},
   "outputs": [
    {
     "name": "stdout",
     "output_type": "stream",
     "text": [
      "Money spent: 73.0\n"
     ]
    }
   ],
   "source": [
    "spendings = [32, 18, 23]\n",
    "sum = 0.0\n",
    "for spending in spendings:\n",
    "    sum += spending\n",
    "print('Money spent:', sum)"
   ]
  },
  {
   "cell_type": "code",
   "execution_count": null,
   "id": "95d748ad-af36-4054-89b3-a94d41264fa5",
   "metadata": {},
   "outputs": [],
   "source": []
  }
 ],
 "metadata": {
  "kernelspec": {
   "display_name": "Python 3 (ipykernel)",
   "language": "python",
   "name": "python3"
  },
  "language_info": {
   "codemirror_mode": {
    "name": "ipython",
    "version": 3
   },
   "file_extension": ".py",
   "mimetype": "text/x-python",
   "name": "python",
   "nbconvert_exporter": "python",
   "pygments_lexer": "ipython3",
   "version": "3.10.16"
  }
 },
 "nbformat": 4,
 "nbformat_minor": 5
}
