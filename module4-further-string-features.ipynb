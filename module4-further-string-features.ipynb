{
 "cells": [
  {
   "cell_type": "code",
   "execution_count": 1,
   "id": "ecc44c4f-eb24-4367-bf6c-1a56c2536447",
   "metadata": {},
   "outputs": [
    {
     "name": "stdout",
     "output_type": "stream",
     "text": [
      "D\n"
     ]
    }
   ],
   "source": [
    "fav_band = 'Green Day'\n",
    "print(fav_band[6])"
   ]
  },
  {
   "cell_type": "code",
   "execution_count": 3,
   "id": "e7ce8938-50d9-4530-854a-6bc4b3ba44bb",
   "metadata": {},
   "outputs": [
    {
     "name": "stdout",
     "output_type": "stream",
     "text": [
      "Green \n"
     ]
    }
   ],
   "source": [
    "print(fav_band[0:6])"
   ]
  },
  {
   "cell_type": "code",
   "execution_count": 4,
   "id": "bc7c49a8-1043-4e13-ab94-d7720844fd6f",
   "metadata": {},
   "outputs": [
    {
     "ename": "SyntaxError",
     "evalue": "cannot assign to function call here. Maybe you meant '==' instead of '='? (3399720633.py, line 1)",
     "output_type": "error",
     "traceback": [
      "\u001b[0;36m  Cell \u001b[0;32mIn[4], line 1\u001b[0;36m\u001b[0m\n\u001b[0;31m    fav_band(5) = 'M'\u001b[0m\n\u001b[0m    ^\u001b[0m\n\u001b[0;31mSyntaxError\u001b[0m\u001b[0;31m:\u001b[0m cannot assign to function call here. Maybe you meant '==' instead of '='?\n"
     ]
    }
   ],
   "source": [
    "fav_band(5) = 'M'"
   ]
  },
  {
   "cell_type": "code",
   "execution_count": 5,
   "id": "f4d11c18-cbd7-48e9-a27e-a4569067df1f",
   "metadata": {},
   "outputs": [
    {
     "name": "stdout",
     "output_type": "stream",
     "text": [
      "PLEASE CAPITALIZE ME\n"
     ]
    }
   ],
   "source": [
    "text = 'please capitalize me'\n",
    "text_cap = text.upper()\n",
    "print(text_cap)"
   ]
  },
  {
   "cell_type": "code",
   "execution_count": null,
   "id": "f6b963f5-3ae0-4ce1-9b7a-00b0302627b3",
   "metadata": {},
   "outputs": [],
   "source": []
  }
 ],
 "metadata": {
  "kernelspec": {
   "display_name": "Python 3 (ipykernel)",
   "language": "python",
   "name": "python3"
  },
  "language_info": {
   "codemirror_mode": {
    "name": "ipython",
    "version": 3
   },
   "file_extension": ".py",
   "mimetype": "text/x-python",
   "name": "python",
   "nbconvert_exporter": "python",
   "pygments_lexer": "ipython3",
   "version": "3.12.7"
  }
 },
 "nbformat": 4,
 "nbformat_minor": 5
}
