{
 "cells": [
  {
   "cell_type": "code",
   "execution_count": 5,
   "id": "020ac2cf-a49c-4847-850f-c4ab225aec3a",
   "metadata": {},
   "outputs": [
    {
     "name": "stdout",
     "output_type": "stream",
     "text": [
      "current letter: h\n",
      "current letter: e\n",
      "current letter: l\n",
      "current letter: l\n",
      "current letter: o\n"
     ]
    }
   ],
   "source": [
    "for letter in 'hello': # letter is variable name\n",
    "    print('current letter:', letter) # 6 iterations"
   ]
  },
  {
   "cell_type": "code",
   "execution_count": 6,
   "id": "d12192e8-9752-41a4-93ae-b11ee9f00f6d",
   "metadata": {},
   "outputs": [
    {
     "name": "stdout",
     "output_type": "stream",
     "text": [
      "1\n",
      "2\n",
      "3\n",
      "4\n",
      "5\n",
      "6\n",
      "7\n",
      "8\n",
      "9\n",
      "10\n",
      "finished!\n"
     ]
    }
   ],
   "source": [
    "for counter in range(1,11): # start value is included, stop value is not\n",
    "    print(counter)\n",
    "print('finished!')"
   ]
  },
  {
   "cell_type": "code",
   "execution_count": 7,
   "id": "f268e0be-b15b-44ce-ade0-35bf7a9f9962",
   "metadata": {},
   "outputs": [
    {
     "name": "stdout",
     "output_type": "stream",
     "text": [
      "0\n",
      "1\n",
      "2\n",
      "3\n",
      "4\n",
      "5\n",
      "6\n",
      "7\n",
      "8\n",
      "9\n",
      "10\n",
      "finished!\n"
     ]
    }
   ],
   "source": [
    "for counter in range(11): # start value is included, stop value is not\n",
    "    print(counter)\n",
    "print('finished!')"
   ]
  },
  {
   "cell_type": "code",
   "execution_count": 9,
   "id": "29a049fe-1cbe-44a5-a006-b93401a22ba3",
   "metadata": {},
   "outputs": [
    {
     "name": "stdout",
     "output_type": "stream",
     "text": [
      "1\n",
      "5\n",
      "9\n",
      "finished!\n"
     ]
    }
   ],
   "source": [
    "for counter in range(1,11,4): # start value is included, stop value is not\n",
    "    print(counter)\n",
    "print('finished!')"
   ]
  },
  {
   "cell_type": "code",
   "execution_count": null,
   "id": "757713f3-930b-4337-905d-39995d4ccd9a",
   "metadata": {},
   "outputs": [],
   "source": []
  }
 ],
 "metadata": {
  "kernelspec": {
   "display_name": "Python 3 (ipykernel)",
   "language": "python",
   "name": "python3"
  },
  "language_info": {
   "codemirror_mode": {
    "name": "ipython",
    "version": 3
   },
   "file_extension": ".py",
   "mimetype": "text/x-python",
   "name": "python",
   "nbconvert_exporter": "python",
   "pygments_lexer": "ipython3",
   "version": "3.10.16"
  }
 },
 "nbformat": 4,
 "nbformat_minor": 5
}
