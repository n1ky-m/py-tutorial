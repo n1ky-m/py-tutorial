{
 "cells": [
  {
   "cell_type": "code",
   "execution_count": null,
   "id": "8c73a4b2-0670-4dc9-97eb-6b2cd5946459",
   "metadata": {},
   "outputs": [],
   "source": [
    "while True:\n",
    "    userQuestion = int(input('When was Python 1.0 released? '))\n",
    "    if userQuestion == 1994:\n",
    "        print('Correct!')\n",
    "        break\n",
    "    elif userQuestions > 1994:\n",
    "        print('It was earlier than that!')\n",
    "        userQuestion = int(input('When was Python 1.0 released? '))\n",
    "    elif userQuestion < 1994:\n",
    "        print('It was later than that!')\n",
    "        userQuestion = int(input('When was Python 1.0 released? '))"
   ]
  },
  {
   "cell_type": "code",
   "execution_count": null,
   "id": "9cc082f2-5552-4952-aa9f-a76c658fce6f",
   "metadata": {},
   "outputs": [],
   "source": []
  }
 ],
 "metadata": {
  "kernelspec": {
   "display_name": "Python 3 (ipykernel)",
   "language": "python",
   "name": "python3"
  },
  "language_info": {
   "codemirror_mode": {
    "name": "ipython",
    "version": 3
   },
   "file_extension": ".py",
   "mimetype": "text/x-python",
   "name": "python",
   "nbconvert_exporter": "python",
   "pygments_lexer": "ipython3",
   "version": "3.10.16"
  }
 },
 "nbformat": 4,
 "nbformat_minor": 5
}
