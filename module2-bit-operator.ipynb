{
 "cells": [
  {
   "cell_type": "code",
   "execution_count": 1,
   "id": "93e83787-f68c-4285-8d1b-2c473fa4e47c",
   "metadata": {},
   "outputs": [
    {
     "name": "stdout",
     "output_type": "stream",
     "text": [
      "0\n"
     ]
    }
   ],
   "source": [
    "first_bit = 1\n",
    "second_bit = 0\n",
    "print(first_bit & second_bit) "
   ]
  },
  {
   "cell_type": "code",
   "execution_count": 13,
   "id": "95822e26-4b6d-40da-ada2-a9ac1c609bca",
   "metadata": {},
   "outputs": [
    {
     "name": "stdout",
     "output_type": "stream",
     "text": [
      "1\n"
     ]
    }
   ],
   "source": [
    "first_bit = 1\n",
    "second_bit = 1\n",
    "print(first_bit | second_bit)"
   ]
  },
  {
   "cell_type": "code",
   "execution_count": 14,
   "id": "5695eaa3-0482-45e8-a18f-8cf58611b605",
   "metadata": {},
   "outputs": [
    {
     "name": "stdout",
     "output_type": "stream",
     "text": [
      "0\n"
     ]
    }
   ],
   "source": [
    "first_bit = 1\n",
    "second_bit = 1\n",
    "print(first_bit ^ second_bit) # negative + number after it"
   ]
  },
  {
   "cell_type": "code",
   "execution_count": 4,
   "id": "b8c436e6-d881-4fc4-93d8-53dc62fd7ab6",
   "metadata": {},
   "outputs": [
    {
     "name": "stdout",
     "output_type": "stream",
     "text": [
      "-1\n"
     ]
    }
   ],
   "source": [
    "print(~0)  # negative + number after it"
   ]
  },
  {
   "cell_type": "code",
   "execution_count": 5,
   "id": "c7e4723b-6e2d-49c4-af42-5fe2ecc25f0c",
   "metadata": {},
   "outputs": [
    {
     "data": {
      "text/plain": [
       "24"
      ]
     },
     "execution_count": 5,
     "metadata": {},
     "output_type": "execute_result"
    }
   ],
   "source": [
    "12 << 1 # multiply first number by 2^ of number on right"
   ]
  },
  {
   "cell_type": "code",
   "execution_count": 6,
   "id": "efb477e7-f95f-4f03-8c31-21a5e2fbf5bd",
   "metadata": {},
   "outputs": [
    {
     "data": {
      "text/plain": [
       "48"
      ]
     },
     "execution_count": 6,
     "metadata": {},
     "output_type": "execute_result"
    }
   ],
   "source": [
    "12 << 2"
   ]
  },
  {
   "cell_type": "code",
   "execution_count": 7,
   "id": "47270af0-48a2-4d67-837e-cee9bf2cd270",
   "metadata": {},
   "outputs": [
    {
     "data": {
      "text/plain": [
       "96"
      ]
     },
     "execution_count": 7,
     "metadata": {},
     "output_type": "execute_result"
    }
   ],
   "source": [
    "12 << 3"
   ]
  },
  {
   "cell_type": "code",
   "execution_count": 8,
   "id": "d31c2caf-8982-487e-84b8-6828bc9bde6d",
   "metadata": {},
   "outputs": [
    {
     "data": {
      "text/plain": [
       "6"
      ]
     },
     "execution_count": 8,
     "metadata": {},
     "output_type": "execute_result"
    }
   ],
   "source": [
    "12 >> 1  # divide first number by 2^ of number on right"
   ]
  },
  {
   "cell_type": "code",
   "execution_count": null,
   "id": "aa486908-9deb-4c26-b87a-f123e04b0a02",
   "metadata": {},
   "outputs": [],
   "source": []
  }
 ],
 "metadata": {
  "kernelspec": {
   "display_name": "Python 3 (ipykernel)",
   "language": "python",
   "name": "python3"
  },
  "language_info": {
   "codemirror_mode": {
    "name": "ipython",
    "version": 3
   },
   "file_extension": ".py",
   "mimetype": "text/x-python",
   "name": "python",
   "nbconvert_exporter": "python",
   "pygments_lexer": "ipython3",
   "version": "3.10.16"
  }
 },
 "nbformat": 4,
 "nbformat_minor": 5
}
