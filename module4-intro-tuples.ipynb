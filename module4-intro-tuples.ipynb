{
 "cells": [
  {
   "cell_type": "code",
   "execution_count": null,
   "id": "48fcfb37-c4e6-4709-b42d-84ed31db56cd",
   "metadata": {},
   "outputs": [],
   "source": [
    "empty_tuple = ()"
   ]
  },
  {
   "cell_type": "code",
   "execution_count": null,
   "id": "6a9d1616-623c-426a-9513-7c5d73199e7b",
   "metadata": {},
   "outputs": [],
   "source": [
    "one_el_tuple_aa = (1,)"
   ]
  },
  {
   "cell_type": "code",
   "execution_count": 1,
   "id": "9d962141-440a-41b1-9845-7ea95889176a",
   "metadata": {},
   "outputs": [],
   "source": [
    "three_el_typle = 1, 2, 3"
   ]
  },
  {
   "cell_type": "code",
   "execution_count": null,
   "id": "850e99ec-55e6-4310-be66-c187055a2e29",
   "metadata": {},
   "outputs": [],
   "source": []
  }
 ],
 "metadata": {
  "kernelspec": {
   "display_name": "Python 3 (ipykernel)",
   "language": "python",
   "name": "python3"
  },
  "language_info": {
   "codemirror_mode": {
    "name": "ipython",
    "version": 3
   },
   "file_extension": ".py",
   "mimetype": "text/x-python",
   "name": "python",
   "nbconvert_exporter": "python",
   "pygments_lexer": "ipython3",
   "version": "3.12.7"
  }
 },
 "nbformat": 4,
 "nbformat_minor": 5
}
