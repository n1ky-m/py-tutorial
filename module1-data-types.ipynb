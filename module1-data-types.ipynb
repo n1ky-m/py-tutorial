{
 "cells": [
  {
   "cell_type": "code",
   "execution_count": null,
   "id": "7d9fd9ff-54f5-4125-9604-3fb580a424de",
   "metadata": {},
   "outputs": [],
   "source": [
    "greeting = 'Hello, friend!'"
   ]
  },
  {
   "cell_type": "code",
   "execution_count": null,
   "id": "eba49615-1b5d-4b8a-b765-59961ccafb6c",
   "metadata": {},
   "outputs": [],
   "source": [
    "age = 35"
   ]
  },
  {
   "cell_type": "code",
   "execution_count": null,
   "id": "5e491aad-9e77-43d5-9a85-39316ade2737",
   "metadata": {},
   "outputs": [],
   "source": [
    "speed = 4.5"
   ]
  }
 ],
 "metadata": {
  "kernelspec": {
   "display_name": "Python 3 (ipykernel)",
   "language": "python",
   "name": "python3"
  },
  "language_info": {
   "codemirror_mode": {
    "name": "ipython",
    "version": 3
   },
   "file_extension": ".py",
   "mimetype": "text/x-python",
   "name": "python",
   "nbconvert_exporter": "python",
   "pygments_lexer": "ipython3",
   "version": "3.10.16"
  }
 },
 "nbformat": 4,
 "nbformat_minor": 5
}
