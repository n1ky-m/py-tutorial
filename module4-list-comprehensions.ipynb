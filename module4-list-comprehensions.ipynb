{
 "cells": [
  {
   "cell_type": "code",
   "execution_count": null,
   "id": "fecc65f4-0b49-4a5a-b31a-6426d31ba083",
   "metadata": {},
   "outputs": [],
   "source": [
    "numbers[1 ,2 , 3, 4]"
   ]
  },
  {
   "cell_type": "code",
   "execution_count": null,
   "id": "8963dbfe-cc00-4495-a3fa-d29d39bdc18b",
   "metadata": {},
   "outputs": [],
   "source": [
    "numbers[]\n",
    "for i in range(1, 101):\n",
    "    numbers.append(i)\n",
    "    \n"
   ]
  }
 ],
 "metadata": {
  "kernelspec": {
   "display_name": "Python 3 (ipykernel)",
   "language": "python",
   "name": "python3"
  },
  "language_info": {
   "codemirror_mode": {
    "name": "ipython",
    "version": 3
   },
   "file_extension": ".py",
   "mimetype": "text/x-python",
   "name": "python",
   "nbconvert_exporter": "python",
   "pygments_lexer": "ipython3",
   "version": "3.10.16"
  }
 },
 "nbformat": 4,
 "nbformat_minor": 5
}
