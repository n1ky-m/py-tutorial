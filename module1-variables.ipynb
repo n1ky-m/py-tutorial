{
 "cells": [
  {
   "cell_type": "code",
   "execution_count": 4,
   "id": "c9592950-1a67-470d-888a-638254bf285c",
   "metadata": {},
   "outputs": [
    {
     "name": "stdout",
     "output_type": "stream",
     "text": [
      "Hello, friend!\n",
      "Hi everybody!\n"
     ]
    }
   ],
   "source": [
    "greeting = 'Hello, friend!'\n",
    "print(greeting)\n",
    "greeting = 'Hi everybody!'\n",
    "print(greeting)"
   ]
  },
  {
   "cell_type": "code",
   "execution_count": 5,
   "id": "b1320fb7-d5cb-4afb-8e67-d1ce038afce5",
   "metadata": {},
   "outputs": [
    {
     "ename": "NameError",
     "evalue": "name 'new_greeting' is not defined",
     "output_type": "error",
     "traceback": [
      "\u001b[0;31m---------------------------------------------------------------------------\u001b[0m",
      "\u001b[0;31mNameError\u001b[0m                                 Traceback (most recent call last)",
      "Cell \u001b[0;32mIn[5], line 1\u001b[0m\n\u001b[0;32m----> 1\u001b[0m \u001b[38;5;28mprint\u001b[39m(\u001b[43mnew_greeting\u001b[49m)\n\u001b[1;32m      2\u001b[0m new_greeting \u001b[38;5;241m=\u001b[39m \u001b[38;5;124m'\u001b[39m\u001b[38;5;124mHello!\u001b[39m\u001b[38;5;124m'\u001b[39m\n",
      "\u001b[0;31mNameError\u001b[0m: name 'new_greeting' is not defined"
     ]
    }
   ],
   "source": [
    "print(new_greeting)\n",
    "new_greeting = 'Hello!'"
   ]
  },
  {
   "cell_type": "code",
   "execution_count": null,
   "id": "afcabfe9-6f28-445e-8897-69d7fc1da874",
   "metadata": {},
   "outputs": [],
   "source": []
  }
 ],
 "metadata": {
  "kernelspec": {
   "display_name": "Python 3 (ipykernel)",
   "language": "python",
   "name": "python3"
  },
  "language_info": {
   "codemirror_mode": {
    "name": "ipython",
    "version": 3
   },
   "file_extension": ".py",
   "mimetype": "text/x-python",
   "name": "python",
   "nbconvert_exporter": "python",
   "pygments_lexer": "ipython3",
   "version": "3.10.16"
  }
 },
 "nbformat": 4,
 "nbformat_minor": 5
}
