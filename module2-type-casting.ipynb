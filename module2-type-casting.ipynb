{
 "cells": [
  {
   "cell_type": "code",
   "execution_count": 3,
   "id": "17f59a8f-85b2-4bd8-a171-6e73eb8737ff",
   "metadata": {},
   "outputs": [
    {
     "name": "stdin",
     "output_type": "stream",
     "text": [
      "enter height 343\n"
     ]
    },
    {
     "name": "stdout",
     "output_type": "stream",
     "text": [
      "your height is 11.253280839895012\n"
     ]
    }
   ],
   "source": [
    "height_cm = input('enter height')\n",
    "float_height_cm = float (height_cm)\n",
    "print('your height is', float_height_cm/30.48)"
   ]
  },
  {
   "cell_type": "code",
   "execution_count": 4,
   "id": "76edb51d-97fa-4d4b-b4a7-ae346abe2df5",
   "metadata": {},
   "outputs": [
    {
     "name": "stdin",
     "output_type": "stream",
     "text": [
      "enter height 242\n"
     ]
    },
    {
     "name": "stdout",
     "output_type": "stream",
     "text": [
      "your height is 7.939632545931758\n"
     ]
    }
   ],
   "source": [
    "height_cm = float(input('enter height'))\n",
    "print('your height is', height_cm/30.48)"
   ]
  },
  {
   "cell_type": "code",
   "execution_count": 7,
   "id": "eba0c82a-ea6f-4085-aad5-62c1fae2666f",
   "metadata": {},
   "outputs": [
    {
     "name": "stdin",
     "output_type": "stream",
     "text": [
      "enter height 34\n"
     ]
    },
    {
     "name": "stdout",
     "output_type": "stream",
     "text": [
      "your height is 34.0\n"
     ]
    }
   ],
   "source": [
    "height_cm = int(input('enter height'))\n",
    "print('your height is', height_cm/1)"
   ]
  },
  {
   "cell_type": "code",
   "execution_count": 9,
   "id": "aa5dae9a-2ebe-4e6b-a4a9-4a68b50fbec3",
   "metadata": {},
   "outputs": [
    {
     "name": "stdin",
     "output_type": "stream",
     "text": [
      "Enter the temperature today in Celcius degrees 344\n"
     ]
    },
    {
     "name": "stdout",
     "output_type": "stream",
     "text": [
      "344 degrees Celcius equals 651.2 degrees Farenheit. \n"
     ]
    }
   ],
   "source": [
    "temp_c = input('Enter the temperature today in Celcius degrees')\n",
    "temp_f = float(temp_c) * 1.8 + 32\n",
    "temp_statement = str(temp_c) + ' degrees Celcius equals ' + str(temp_f) + ' degrees Farenheit. '\n",
    "print(temp_statement)"
   ]
  },
  {
   "cell_type": "code",
   "execution_count": null,
   "id": "4fa16687-e02e-4b58-b5ca-1536fb62c45d",
   "metadata": {},
   "outputs": [],
   "source": [
    "float()\n",
    "int()\n",
    "str()"
   ]
  }
 ],
 "metadata": {
  "kernelspec": {
   "display_name": "Python 3 (ipykernel)",
   "language": "python",
   "name": "python3"
  },
  "language_info": {
   "codemirror_mode": {
    "name": "ipython",
    "version": 3
   },
   "file_extension": ".py",
   "mimetype": "text/x-python",
   "name": "python",
   "nbconvert_exporter": "python",
   "pygments_lexer": "ipython3",
   "version": "3.10.16"
  }
 },
 "nbformat": 4,
 "nbformat_minor": 5
}
