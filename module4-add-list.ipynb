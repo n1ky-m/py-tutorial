{
 "cells": [
  {
   "cell_type": "code",
   "execution_count": 1,
   "id": "81517d9f-a84e-4c68-9166-107a189902ef",
   "metadata": {},
   "outputs": [
    {
     "name": "stdout",
     "output_type": "stream",
     "text": [
      "hello\n"
     ]
    }
   ],
   "source": [
    "print('hello')"
   ]
  },
  {
   "cell_type": "code",
   "execution_count": 2,
   "id": "24305c67-f2e9-4e36-b323-88f86d87baeb",
   "metadata": {},
   "outputs": [
    {
     "name": "stdout",
     "output_type": "stream",
     "text": [
      "[7, 9, 5, 6, 8, 4]\n"
     ]
    }
   ],
   "source": [
    "book_ratings = [7, 9, 5, 6, 8]\n",
    "book_ratings.append(4)\n",
    "print(book_ratings)"
   ]
  },
  {
   "cell_type": "code",
   "execution_count": 3,
   "id": "ce3b47d3-91a5-4c3c-92f2-67ff4b4d4a78",
   "metadata": {},
   "outputs": [
    {
     "name": "stdout",
     "output_type": "stream",
     "text": [
      "[7, 10, 9, 5, 6, 8]\n"
     ]
    }
   ],
   "source": [
    "book_ratings = [7, 9, 5, 6, 8]\n",
    "book_ratings.insert(1, 10)\n",
    "print(book_ratings)"
   ]
  },
  {
   "cell_type": "code",
   "execution_count": null,
   "id": "a17dda4b-1e3f-40de-97f0-921859dee4b5",
   "metadata": {},
   "outputs": [],
   "source": []
  }
 ],
 "metadata": {
  "kernelspec": {
   "display_name": "Python 3 (ipykernel)",
   "language": "python",
   "name": "python3"
  },
  "language_info": {
   "codemirror_mode": {
    "name": "ipython",
    "version": 3
   },
   "file_extension": ".py",
   "mimetype": "text/x-python",
   "name": "python",
   "nbconvert_exporter": "python",
   "pygments_lexer": "ipython3",
   "version": "3.10.16"
  }
 },
 "nbformat": 4,
 "nbformat_minor": 5
}
