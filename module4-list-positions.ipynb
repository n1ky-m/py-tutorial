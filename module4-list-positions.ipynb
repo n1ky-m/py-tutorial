{
 "cells": [
  {
   "cell_type": "code",
   "execution_count": 4,
   "id": "c4ee7583-266f-490d-bcf4-344708edabcb",
   "metadata": {},
   "outputs": [
    {
     "name": "stdin",
     "output_type": "stream",
     "text": [
      "State your name:  niky\n",
      "State your last name:  manikandan\n"
     ]
    },
    {
     "name": "stdout",
     "output_type": "stream",
     "text": [
      "First iteration niky manikandan\n",
      "Second iteration manikandan manikandan\n"
     ]
    }
   ],
   "source": [
    "first = input('State your name: ')\n",
    "second = input('State your last name: ')\n",
    "print('First iteration', first, second)\n",
    "first = second\n",
    "second = first\n",
    "print('Second iteration', first, second)"
   ]
  },
  {
   "cell_type": "code",
   "execution_count": 5,
   "id": "c94a6787-e2a5-4560-880b-b5d44f5a57eb",
   "metadata": {},
   "outputs": [
    {
     "name": "stdin",
     "output_type": "stream",
     "text": [
      "State your name:  niky\n",
      "State your last name:  manikandan\n"
     ]
    },
    {
     "name": "stdout",
     "output_type": "stream",
     "text": [
      "First iteration niky manikandan\n",
      "Second iteration manikandan niky\n"
     ]
    }
   ],
   "source": [
    "first = input('State your name: ')\n",
    "second = input('State your last name: ')\n",
    "print('First iteration', first, second)\n",
    "temporary = first\n",
    "first = second\n",
    "second = temporary\n",
    "print('Second iteration', first, second)"
   ]
  },
  {
   "cell_type": "code",
   "execution_count": 6,
   "id": "4d0ea7ca-e922-4112-b397-8a11afd32ccf",
   "metadata": {},
   "outputs": [
    {
     "name": "stdin",
     "output_type": "stream",
     "text": [
      "State your name:  niky\n",
      "State your last name:  manikandan\n"
     ]
    },
    {
     "name": "stdout",
     "output_type": "stream",
     "text": [
      "First iteration niky manikandan\n",
      "Second iteration manikandan niky\n"
     ]
    }
   ],
   "source": [
    "first = input('State your name: ')\n",
    "second = input('State your last name: ')\n",
    "print('First iteration', first, second)\n",
    "first, second = second, first\n",
    "print('Second iteration', first, second)"
   ]
  },
  {
   "cell_type": "code",
   "execution_count": 8,
   "id": "b3c0c510-2bf8-41d7-88a1-0859104b8421",
   "metadata": {},
   "outputs": [
    {
     "name": "stdout",
     "output_type": "stream",
     "text": [
      "['Chicago', 'Los Angeles', 'San Diego', 'New York']\n"
     ]
    }
   ],
   "source": [
    "top_cities = ['New York', 'Los Angeles', 'San Diego', 'Chicago']\n",
    "top_cities[0], top_cities[3] = top_cities[3], top_cities[0]\n",
    "print(top_cities)"
   ]
  },
  {
   "cell_type": "code",
   "execution_count": 11,
   "id": "4239ced9-ffab-45fd-8d68-def602cc7b2a",
   "metadata": {},
   "outputs": [
    {
     "name": "stdout",
     "output_type": "stream",
     "text": [
      "['Chicago', 'Los Angeles', 'New York', 'San Diego']\n"
     ]
    }
   ],
   "source": [
    "top_cities = ['New York', 'Los Angeles', 'San Diego', 'Chicago']\n",
    "top_cities.sort()\n",
    "print(top_cities)"
   ]
  },
  {
   "cell_type": "code",
   "execution_count": 12,
   "id": "48eef069-0198-4f9a-8dfd-a50f35892270",
   "metadata": {},
   "outputs": [
    {
     "name": "stdout",
     "output_type": "stream",
     "text": [
      "[1, 3, 6, 7, 10]\n"
     ]
    }
   ],
   "source": [
    "random_numbers = [3, 6, 1, 7, 10]\n",
    "random_numbers.sort()\n",
    "print(random_numbers)"
   ]
  },
  {
   "cell_type": "code",
   "execution_count": 13,
   "id": "c761baae-1b13-4e56-82db-0544bfee286b",
   "metadata": {},
   "outputs": [
    {
     "name": "stdout",
     "output_type": "stream",
     "text": [
      "[10, 7, 6, 3, 1]\n"
     ]
    }
   ],
   "source": [
    "random_numbers = [3, 6, 1, 7, 10]\n",
    "random_numbers.sort(reverse = True)\n",
    "print(random_numbers)"
   ]
  },
  {
   "cell_type": "code",
   "execution_count": 14,
   "id": "810c59c7-87fa-4524-b68f-c5f2e046fe35",
   "metadata": {},
   "outputs": [
    {
     "name": "stdout",
     "output_type": "stream",
     "text": [
      "['Chicago', 'Los Angeles', 'New York', 'San Diego']\n",
      "['New York', 'Los Angeles', 'San Diego', 'Chicago']\n"
     ]
    }
   ],
   "source": [
    "top_cities = ['New York', 'Los Angeles', 'San Diego', 'Chicago']\n",
    "print(sorted(top_cities))\n",
    "print(top_cities)"
   ]
  },
  {
   "cell_type": "code",
   "execution_count": null,
   "id": "0b0d2db6-81bc-4fcb-9ed9-c7bd5da7f046",
   "metadata": {},
   "outputs": [],
   "source": []
  }
 ],
 "metadata": {
  "kernelspec": {
   "display_name": "Python 3 (ipykernel)",
   "language": "python",
   "name": "python3"
  },
  "language_info": {
   "codemirror_mode": {
    "name": "ipython",
    "version": 3
   },
   "file_extension": ".py",
   "mimetype": "text/x-python",
   "name": "python",
   "nbconvert_exporter": "python",
   "pygments_lexer": "ipython3",
   "version": "3.10.16"
  }
 },
 "nbformat": 4,
 "nbformat_minor": 5
}
