{
 "cells": [
  {
   "cell_type": "code",
   "execution_count": null,
   "id": "e9807a3c-5119-4091-b72e-820f458e8306",
   "metadata": {},
   "outputs": [],
   "source": []
  }
 ],
 "metadata": {
  "kernelspec": {
   "display_name": "",
   "name": ""
  },
  "language_info": {
   "name": ""
  }
 },
 "nbformat": 4,
 "nbformat_minor": 5
}
