{
 "cells": [
  {
   "cell_type": "code",
   "execution_count": 1,
   "id": "6bc22b38-1835-4c43-a5f2-0af96ed22824",
   "metadata": {},
   "outputs": [
    {
     "ename": "NameError",
     "evalue": "name 'prnt' is not defined",
     "output_type": "error",
     "traceback": [
      "\u001b[0;31m---------------------------------------------------------------------------\u001b[0m",
      "\u001b[0;31mNameError\u001b[0m                                 Traceback (most recent call last)",
      "Cell \u001b[0;32mIn[1], line 1\u001b[0m\n\u001b[0;32m----> 1\u001b[0m \u001b[43mprnt\u001b[49m(\u001b[38;5;124m'\u001b[39m\u001b[38;5;124mhello\u001b[39m\u001b[38;5;124m'\u001b[39m)\n",
      "\u001b[0;31mNameError\u001b[0m: name 'prnt' is not defined"
     ]
    }
   ],
   "source": [
    "prnt('hello')"
   ]
  },
  {
   "cell_type": "code",
   "execution_count": 3,
   "id": "969afc14-0cd6-4b6a-a88a-74eb6e4c9264",
   "metadata": {},
   "outputs": [
    {
     "name": "stdout",
     "output_type": "stream",
     "text": [
      "hello\n"
     ]
    }
   ],
   "source": [
    "print('hello')"
   ]
  },
  {
   "cell_type": "code",
   "execution_count": 4,
   "id": "25b967c5-9553-4ada-be92-7f2101c431ad",
   "metadata": {},
   "outputs": [
    {
     "name": "stdout",
     "output_type": "stream",
     "text": [
      "I'm going to the store\n"
     ]
    }
   ],
   "source": [
    "print('I\\'m going to the store')"
   ]
  },
  {
   "cell_type": "code",
   "execution_count": 6,
   "id": "67b19d4f-89a6-40b5-9194-91ea1064ff51",
   "metadata": {},
   "outputs": [
    {
     "name": "stdout",
     "output_type": "stream",
     "text": [
      "I'm going to the store\n",
      "\n",
      "to get some milk\n"
     ]
    }
   ],
   "source": [
    "print('I\\'m going to the store')\n",
    "print()\n",
    "print('to get some milk')"
   ]
  },
  {
   "cell_type": "code",
   "execution_count": 7,
   "id": "5c03afcc-dfbf-4617-8f87-8b8d3616621b",
   "metadata": {},
   "outputs": [
    {
     "name": "stdout",
     "output_type": "stream",
     "text": [
      "I'm going to the store to get some milk\n"
     ]
    }
   ],
   "source": [
    "print('I\\'m going to the store', 'to get some milk')"
   ]
  },
  {
   "cell_type": "code",
   "execution_count": null,
   "id": "7fd2030f-071d-47b1-a76a-d424a85590eb",
   "metadata": {},
   "outputs": [],
   "source": []
  }
 ],
 "metadata": {
  "kernelspec": {
   "display_name": "Python 3 (ipykernel)",
   "language": "python",
   "name": "python3"
  },
  "language_info": {
   "codemirror_mode": {
    "name": "ipython",
    "version": 3
   },
   "file_extension": ".py",
   "mimetype": "text/x-python",
   "name": "python",
   "nbconvert_exporter": "python",
   "pygments_lexer": "ipython3",
   "version": "3.10.16"
  }
 },
 "nbformat": 4,
 "nbformat_minor": 5
}
