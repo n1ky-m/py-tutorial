{
 "cells": [
  {
   "cell_type": "code",
   "execution_count": 3,
   "id": "dcc8b07e-8808-4392-bf1d-c865e313c4e6",
   "metadata": {},
   "outputs": [
    {
     "name": "stdin",
     "output_type": "stream",
     "text": [
      "Do you like traveling Y or N Y\n",
      "Do you like Asia? Y or N N\n"
     ]
    },
    {
     "name": "stdout",
     "output_type": "stream",
     "text": [
      "Sorry to hear that!\n"
     ]
    }
   ],
   "source": [
    "answer_a = input('Do you like traveling Y or N')\n",
    "if answer_a == 'Y':\n",
    "    answer_b = input('Do you like Asia? Y or N')\n",
    "    if answer_b == 'Y':\n",
    "        print('You can win a ticket to Thailand!')\n",
    "    else:\n",
    "        print('Sorry to hear that!')\n",
    "else:\n",
    "    print('Sorry to hear that!')"
   ]
  },
  {
   "cell_type": "code",
   "execution_count": null,
   "id": "22f41bbf-76e0-4c5d-85b6-91ebb0495e03",
   "metadata": {},
   "outputs": [],
   "source": []
  }
 ],
 "metadata": {
  "kernelspec": {
   "display_name": "Python 3 (ipykernel)",
   "language": "python",
   "name": "python3"
  },
  "language_info": {
   "codemirror_mode": {
    "name": "ipython",
    "version": 3
   },
   "file_extension": ".py",
   "mimetype": "text/x-python",
   "name": "python",
   "nbconvert_exporter": "python",
   "pygments_lexer": "ipython3",
   "version": "3.10.16"
  }
 },
 "nbformat": 4,
 "nbformat_minor": 5
}
