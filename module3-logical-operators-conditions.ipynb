{
 "cells": [
  {
   "cell_type": "code",
   "execution_count": null,
   "id": "f5e270ee-cf71-4afb-a9e5-66b1bfca39ba",
   "metadata": {},
   "outputs": [],
   "source": [
    "# available logical operations\n",
    "#\n",
    "# < less than\n",
    "# > greater than\n",
    "# <= less than or equal to\n",
    "# >= greater than or equal to\n",
    "# == equals to\n",
    "# != not equals"
   ]
  },
  {
   "cell_type": "code",
   "execution_count": 1,
   "id": "48e4f3ad-ee38-4c46-a29a-9953c74f3e71",
   "metadata": {},
   "outputs": [
    {
     "name": "stdin",
     "output_type": "stream",
     "text": [
      "Do you know the secret password? sdfsd\n"
     ]
    },
    {
     "name": "stdout",
     "output_type": "stream",
     "text": [
      "not correct!\n"
     ]
    }
   ],
   "source": [
    "password = input('Do you know the secret password?')\n",
    "if password != '--secret':\n",
    "    print('not correct!')\n",
    "else:\n",
    "    print('correct!')"
   ]
  },
  {
   "cell_type": "code",
   "execution_count": null,
   "id": "accba906-790b-413a-aff1-31b49e757972",
   "metadata": {},
   "outputs": [],
   "source": [
    "condition = True"
   ]
  },
  {
   "cell_type": "code",
   "execution_count": 2,
   "id": "05866032-4f98-4bba-8d28-d140d7da06d1",
   "metadata": {},
   "outputs": [
    {
     "name": "stdout",
     "output_type": "stream",
     "text": [
      "condition met\n"
     ]
    }
   ],
   "source": [
    "if True:\n",
    "    print('condition met')"
   ]
  },
  {
   "cell_type": "code",
   "execution_count": 4,
   "id": "6c24577b-ef8d-4353-813b-62d06ee2da99",
   "metadata": {},
   "outputs": [
    {
     "name": "stdout",
     "output_type": "stream",
     "text": [
      "true\n"
     ]
    }
   ],
   "source": [
    "if 2 == 2.0:\n",
    "    print('true')"
   ]
  },
  {
   "cell_type": "code",
   "execution_count": null,
   "id": "b4d70a3c-59c8-4af9-9420-5bc4f2f5a72c",
   "metadata": {},
   "outputs": [],
   "source": []
  }
 ],
 "metadata": {
  "kernelspec": {
   "display_name": "Python 3 (ipykernel)",
   "language": "python",
   "name": "python3"
  },
  "language_info": {
   "codemirror_mode": {
    "name": "ipython",
    "version": 3
   },
   "file_extension": ".py",
   "mimetype": "text/x-python",
   "name": "python",
   "nbconvert_exporter": "python",
   "pygments_lexer": "ipython3",
   "version": "3.10.16"
  }
 },
 "nbformat": 4,
 "nbformat_minor": 5
}
