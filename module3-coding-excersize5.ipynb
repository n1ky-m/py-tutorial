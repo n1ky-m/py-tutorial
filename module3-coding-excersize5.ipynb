{
 "cells": [
  {
   "cell_type": "code",
   "execution_count": null,
   "id": "a4c2caee-8730-424f-b0d5-26b425553849",
   "metadata": {},
   "outputs": [],
   "source": [
    "question_1 = int(input('How many days ago have you purchased the item? '))\n",
    "question_2 = input('Have you used the item at all [y/n]? ')\n",
    "question_3 = input('Has the item broken down on its own [y/n]? ')\n",
    "if question_1 < 10 and question_2 == 'n' or question_3 == 'y':\n",
    "    print('You can get a refund.')\n",
    "else:\n",
    "    print('You cannot get a refund.')"
   ]
  }
 ],
 "metadata": {
  "kernelspec": {
   "display_name": "Python 3 (ipykernel)",
   "language": "python",
   "name": "python3"
  },
  "language_info": {
   "codemirror_mode": {
    "name": "ipython",
    "version": 3
   },
   "file_extension": ".py",
   "mimetype": "text/x-python",
   "name": "python",
   "nbconvert_exporter": "python",
   "pygments_lexer": "ipython3",
   "version": "3.10.16"
  }
 },
 "nbformat": 4,
 "nbformat_minor": 5
}
