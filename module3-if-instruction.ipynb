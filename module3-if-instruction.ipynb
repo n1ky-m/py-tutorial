{
 "cells": [
  {
   "cell_type": "code",
   "execution_count": 4,
   "id": "aed7cb47-c5b0-4eb3-b5b6-8e6b4592d5a9",
   "metadata": {},
   "outputs": [
    {
     "name": "stdin",
     "output_type": "stream",
     "text": [
      "What is your age? 20\n"
     ]
    },
    {
     "name": "stdout",
     "output_type": "stream",
     "text": [
      "You are 30 years or younger!\n",
      "Congratulations, you qualify\n"
     ]
    }
   ],
   "source": [
    "user_age = int(input('What is your age?'))\n",
    "if user_age > 30:\n",
    "    print('You are over 30')\n",
    "    print('Sorry, you do not qualify')\n",
    "elif user_age == 30: # double == need to be used to check equality\n",
    "    print('You are exactly 30!')\n",
    "else:\n",
    "    print('You are 30 years or younger!')\n",
    "    print('Congratulations, you qualify')"
   ]
  },
  {
   "cell_type": "code",
   "execution_count": null,
   "id": "1bcf9ce9-39be-4b5e-9c97-f22c227f5130",
   "metadata": {},
   "outputs": [],
   "source": []
  }
 ],
 "metadata": {
  "kernelspec": {
   "display_name": "Python 3 (ipykernel)",
   "language": "python",
   "name": "python3"
  },
  "language_info": {
   "codemirror_mode": {
    "name": "ipython",
    "version": 3
   },
   "file_extension": ".py",
   "mimetype": "text/x-python",
   "name": "python",
   "nbconvert_exporter": "python",
   "pygments_lexer": "ipython3",
   "version": "3.10.16"
  }
 },
 "nbformat": 4,
 "nbformat_minor": 5
}
