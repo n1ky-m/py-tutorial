{
 "cells": [
  {
   "cell_type": "code",
   "execution_count": null,
   "id": "81a7431a-c41e-4c23-844e-fce1db5c290d",
   "metadata": {},
   "outputs": [],
   "source": [
    "# underscores in numbers to be easier to rerad\n",
    "12000300\n",
    "12_000_300"
   ]
  },
  {
   "cell_type": "code",
   "execution_count": 1,
   "id": "c4954b09-aa61-48d2-9903-ba57775a6e70",
   "metadata": {},
   "outputs": [
    {
     "name": "stdout",
     "output_type": "stream",
     "text": [
      "2e-23\n"
     ]
    }
   ],
   "source": [
    "# scientific notation\n",
    "# 3e4 = 3E4 = 3*10000 = 30000\n",
    "# 3e-4 = 3E-4 = 3*1/10000 = 0.0003\n",
    "print(0.00000000000000000000002)"
   ]
  },
  {
   "cell_type": "code",
   "execution_count": 2,
   "id": "dc7b5c8f-7ab3-4550-bfe2-4f751aff9400",
   "metadata": {},
   "outputs": [
    {
     "name": "stdout",
     "output_type": "stream",
     "text": [
      "83\n"
     ]
    }
   ],
   "source": [
    "# octal numbers\n",
    "# start with 0O or 0o (only digits from 0 - 7)\n",
    "print(0o123)"
   ]
  },
  {
   "cell_type": "code",
   "execution_count": 3,
   "id": "dc661dc1-d334-4b57-bf0f-2630fddfcc1a",
   "metadata": {},
   "outputs": [
    {
     "name": "stdout",
     "output_type": "stream",
     "text": [
      "291\n"
     ]
    }
   ],
   "source": [
    "# hexadecimal numbers\n",
    "# start with 0X or 0x\n",
    "print(0x123)"
   ]
  },
  {
   "cell_type": "code",
   "execution_count": null,
   "id": "51ff917f-5ac9-44e9-b3c1-c9f4819426d6",
   "metadata": {},
   "outputs": [],
   "source": []
  }
 ],
 "metadata": {
  "kernelspec": {
   "display_name": "Python 3 (ipykernel)",
   "language": "python",
   "name": "python3"
  },
  "language_info": {
   "codemirror_mode": {
    "name": "ipython",
    "version": 3
   },
   "file_extension": ".py",
   "mimetype": "text/x-python",
   "name": "python",
   "nbconvert_exporter": "python",
   "pygments_lexer": "ipython3",
   "version": "3.10.16"
  }
 },
 "nbformat": 4,
 "nbformat_minor": 5
}
