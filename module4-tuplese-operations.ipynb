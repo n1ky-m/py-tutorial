{
 "cells": [
  {
   "cell_type": "code",
   "execution_count": 2,
   "id": "f464d33f-a3cf-467d-8419-34d0b9ba45e6",
   "metadata": {},
   "outputs": [
    {
     "name": "stdout",
     "output_type": "stream",
     "text": [
      "3\n"
     ]
    }
   ],
   "source": [
    "user_data = ('John', 'America', 4)\n",
    "print(len(user_data))"
   ]
  },
  {
   "cell_type": "code",
   "execution_count": 3,
   "id": "18e3eafd-3b75-4ef5-985c-bc9fb423df79",
   "metadata": {},
   "outputs": [
    {
     "name": "stdout",
     "output_type": "stream",
     "text": [
      "this person is american\n"
     ]
    }
   ],
   "source": [
    "user_data = ('John', 'America', 4)\n",
    "if 'America' in user_data:\n",
    "    print('this person is american')"
   ]
  },
  {
   "cell_type": "code",
   "execution_count": 4,
   "id": "d80fcdb7-b866-4e12-a8bb-5c5bc08e86e2",
   "metadata": {},
   "outputs": [
    {
     "name": "stdout",
     "output_type": "stream",
     "text": [
      "John\n",
      "America\n",
      "4\n"
     ]
    }
   ],
   "source": [
    "user_data = ('John', 'America', 4)\n",
    "for element in user_data:\n",
    "    print(element)"
   ]
  },
  {
   "cell_type": "code",
   "execution_count": 6,
   "id": "013459b5-60ab-451b-97aa-8f0d456823b6",
   "metadata": {},
   "outputs": [
    {
     "name": "stdout",
     "output_type": "stream",
     "text": [
      "(0, 1, 0, 1, 0, 1, 0, 1, 0, 1, 0, 1, 0, 1, 0, 1, 0, 1, 0, 1)\n"
     ]
    }
   ],
   "source": [
    "numbers = (0, 1) * 10\n",
    "print(numbers)"
   ]
  },
  {
   "cell_type": "markdown",
   "id": "172f8394-2a4d-483a-8699-5f465ed6d482",
   "metadata": {},
   "source": [
    "male_names = ['Jerry', 'Mark', 'Adam']"
   ]
  },
  {
   "cell_type": "code",
   "execution_count": null,
   "id": "9b91afdd-dee0-4390-ae5b-55b8a18b3f02",
   "metadata": {},
   "outputs": [],
   "source": [
    "first = 4\n",
    "second = 5\n",
    "first, second = second, first"
   ]
  }
 ],
 "metadata": {
  "kernelspec": {
   "display_name": "Python 3 (ipykernel)",
   "language": "python",
   "name": "python3"
  },
  "language_info": {
   "codemirror_mode": {
    "name": "ipython",
    "version": 3
   },
   "file_extension": ".py",
   "mimetype": "text/x-python",
   "name": "python",
   "nbconvert_exporter": "python",
   "pygments_lexer": "ipython3",
   "version": "3.12.7"
  }
 },
 "nbformat": 4,
 "nbformat_minor": 5
}
