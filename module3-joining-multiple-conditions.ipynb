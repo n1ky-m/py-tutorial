{
 "cells": [
  {
   "cell_type": "code",
   "execution_count": 3,
   "id": "d5bef23e-383c-408f-b53f-27f1beffc191",
   "metadata": {},
   "outputs": [
    {
     "name": "stdin",
     "output_type": "stream",
     "text": [
      "What is your age? 34\n",
      "What country are you from? dfd\n"
     ]
    },
    {
     "name": "stdout",
     "output_type": "stream",
     "text": [
      "You do not qualify.\n"
     ]
    }
   ],
   "source": [
    "user_age = int(input('What is your age?'))\n",
    "user_country = input('What country are you from?')\n",
    "\n",
    "if user_age < 34 and user_country == 'Germany':\n",
    "     print('You can apply for German student exchange programs.')\n",
    "else:\n",
    "    print('You do not qualify.')"
   ]
  },
  {
   "cell_type": "code",
   "execution_count": 5,
   "id": "25f81010-656f-44d5-b07c-6c3bd5615349",
   "metadata": {},
   "outputs": [
    {
     "name": "stdin",
     "output_type": "stream",
     "text": [
      "What country are you from? sdsdf\n"
     ]
    },
    {
     "name": "stdout",
     "output_type": "stream",
     "text": [
      "You do not qualify.\n"
     ]
    }
   ],
   "source": [
    "user_country = input('What country are you from?')\n",
    "\n",
    "if user_country == 'Germany' or user_country == 'Denmark' or user_country == 'Norway':\n",
    "     print('You can apply for Scandinavian student exchange programs.')\n",
    "else:\n",
    "    print('You do not qualify.')"
   ]
  },
  {
   "cell_type": "code",
   "execution_count": 4,
   "id": "c0550203-5203-4a88-b845-4a661b030331",
   "metadata": {},
   "outputs": [
    {
     "name": "stdin",
     "output_type": "stream",
     "text": [
      "What country are you from? sdfsf\n"
     ]
    },
    {
     "name": "stdout",
     "output_type": "stream",
     "text": [
      "You are not from germany.\n"
     ]
    }
   ],
   "source": [
    "user_country = input('What country are you from?')\n",
    "\n",
    "if not user_country == 'Germany':\n",
    "     print('You are not from germany.')\n",
    "else:\n",
    "    print('You are from germany.')"
   ]
  },
  {
   "cell_type": "code",
   "execution_count": 6,
   "id": "e66f030c-dbc5-4edc-859b-bbd752ecb8eb",
   "metadata": {},
   "outputs": [
    {
     "name": "stdin",
     "output_type": "stream",
     "text": [
      "What is your age? 34\n",
      "What country are you from? dfgdfg\n"
     ]
    },
    {
     "name": "stdout",
     "output_type": "stream",
     "text": [
      "You do not qualify.\n"
     ]
    }
   ],
   "source": [
    "user_age = int(input('What is your age?'))\n",
    "user_country = input('What country are you from?')\n",
    "\n",
    "if user_age < 34 and user_country == 'Germany' or user_age > 60 and user_country == 'Denmark':\n",
    "     print('You can apply for German student exchange programs.')\n",
    "else:\n",
    "    print('You do not qualify.')"
   ]
  },
  {
   "cell_type": "code",
   "execution_count": null,
   "id": "fa7c4c6a-9415-4b7f-8b44-7a522576d280",
   "metadata": {},
   "outputs": [],
   "source": [
    "# not\n",
    "# and\n",
    "# or"
   ]
  }
 ],
 "metadata": {
  "kernelspec": {
   "display_name": "Python 3 (ipykernel)",
   "language": "python",
   "name": "python3"
  },
  "language_info": {
   "codemirror_mode": {
    "name": "ipython",
    "version": 3
   },
   "file_extension": ".py",
   "mimetype": "text/x-python",
   "name": "python",
   "nbconvert_exporter": "python",
   "pygments_lexer": "ipython3",
   "version": "3.10.16"
  }
 },
 "nbformat": 4,
 "nbformat_minor": 5
}
