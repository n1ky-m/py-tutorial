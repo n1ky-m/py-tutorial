{
 "cells": [
  {
   "cell_type": "code",
   "execution_count": 1,
   "id": "8efb84ba-f66f-4f44-b42e-f4e0674046d8",
   "metadata": {},
   "outputs": [
    {
     "ename": "TypeError",
     "evalue": "'tuple' object is not callable",
     "output_type": "error",
     "traceback": [
      "\u001b[0;31m---------------------------------------------------------------------------\u001b[0m",
      "\u001b[0;31mTypeError\u001b[0m                                 Traceback (most recent call last)",
      "Cell \u001b[0;32mIn[1], line 5\u001b[0m\n\u001b[1;32m      3\u001b[0m city_3 \u001b[38;5;241m=\u001b[39m (\u001b[38;5;124m'\u001b[39m\u001b[38;5;124mTexas\u001b[39m\u001b[38;5;124m'\u001b[39m, \u001b[38;5;124m'\u001b[39m\u001b[38;5;124mDallas\u001b[39m\u001b[38;5;124m'\u001b[39m, \u001b[38;5;241m454\u001b[39m)\n\u001b[1;32m      4\u001b[0m capitals \u001b[38;5;241m=\u001b[39m [(\u001b[38;5;124m'\u001b[39m\u001b[38;5;124mTexas\u001b[39m\u001b[38;5;124m'\u001b[39m, \u001b[38;5;124m'\u001b[39m\u001b[38;5;124mDallas\u001b[39m\u001b[38;5;124m'\u001b[39m, \u001b[38;5;241m454\u001b[39m), (\u001b[38;5;124m'\u001b[39m\u001b[38;5;124mCanbera\u001b[39m\u001b[38;5;124m'\u001b[39m, \u001b[38;5;124m'\u001b[39m\u001b[38;5;124mAustralia\u001b[39m\u001b[38;5;124m'\u001b[39m, \u001b[38;5;241m243\u001b[39m), (\u001b[38;5;124m'\u001b[39m\u001b[38;5;124mLondon\u001b[39m\u001b[38;5;124m'\u001b[39m, \u001b[38;5;124m'\u001b[39m\u001b[38;5;124mUK\u001b[39m\u001b[38;5;124m'\u001b[39m, \u001b[38;5;241m1930\u001b[39m)]\n\u001b[0;32m----> 5\u001b[0m \u001b[38;5;28mprint\u001b[39m(city_3(\u001b[38;5;241m2\u001b[39m))\n",
      "\u001b[0;31mTypeError\u001b[0m: 'tuple' object is not callable"
     ]
    }
   ],
   "source": [
    "city_1 = ('London', 'UK', 1930)\n",
    "city_2 = ('Canbera', 'Australia', 243),\n",
    "city_3 = ('Texas', 'Dallas', 454)\n",
    "capitals = [('Texas', 'Dallas', 454), ('Canbera', 'Australia', 243), ('London', 'UK', 1930)]"
   ]
  },
  {
   "cell_type": "code",
   "execution_count": null,
   "id": "b89ee63b-b624-4f31-8ba7-9f2ef4c6ee09",
   "metadata": {},
   "outputs": [],
   "source": []
  }
 ],
 "metadata": {
  "kernelspec": {
   "display_name": "Python 3 (ipykernel)",
   "language": "python",
   "name": "python3"
  },
  "language_info": {
   "codemirror_mode": {
    "name": "ipython",
    "version": 3
   },
   "file_extension": ".py",
   "mimetype": "text/x-python",
   "name": "python",
   "nbconvert_exporter": "python",
   "pygments_lexer": "ipython3",
   "version": "3.12.7"
  }
 },
 "nbformat": 4,
 "nbformat_minor": 5
}
