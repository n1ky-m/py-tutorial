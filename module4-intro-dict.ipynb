{
 "cells": [
  {
   "cell_type": "code",
   "execution_count": 4,
   "id": "d8a7ba53-48a2-40a7-8367-bc21b8d15d79",
   "metadata": {},
   "outputs": [],
   "source": [
    "emails = {\n",
    "        'Anne Stahl': 'astahl@gmail.com',\n",
    "        'Peter Small': 'peters@yandex.com',\n",
    "        'Mark Steel': 'mark@steel.com'\n",
    "}"
   ]
  },
  {
   "cell_type": "code",
   "execution_count": 5,
   "id": "6598453c-dc2f-47b0-8e1b-f2b12befbed5",
   "metadata": {},
   "outputs": [
    {
     "name": "stdout",
     "output_type": "stream",
     "text": [
      "mark@steel.com\n"
     ]
    }
   ],
   "source": [
    "print(emails['Mark Steel'])"
   ]
  },
  {
   "cell_type": "code",
   "execution_count": 8,
   "id": "2093529c-3b17-4f8c-9edd-6bbf815bc186",
   "metadata": {},
   "outputs": [],
   "source": [
    "spanish_animals = {\n",
    "        'dog': 'el perro',\n",
    "        'cat': 'el gato',\n",
    "        'horse': 'el caballo' }"
   ]
  },
  {
   "cell_type": "code",
   "execution_count": 9,
   "id": "4f5b8cbb-744d-482a-b8d0-a193934909e1",
   "metadata": {},
   "outputs": [
    {
     "name": "stdout",
     "output_type": "stream",
     "text": [
      "el perro\n"
     ]
    }
   ],
   "source": [
    "print(spanish_animals['dog'])"
   ]
  },
  {
   "cell_type": "code",
   "execution_count": null,
   "id": "8f4aa58b-9946-4851-9a98-736b1a89b9b2",
   "metadata": {},
   "outputs": [],
   "source": []
  },
  {
   "cell_type": "code",
   "execution_count": null,
   "id": "a4ffec58-a8b0-4f9e-8483-41ad124b8f9b",
   "metadata": {},
   "outputs": [],
   "source": []
  }
 ],
 "metadata": {
  "kernelspec": {
   "display_name": "Python 3 (ipykernel)",
   "language": "python",
   "name": "python3"
  },
  "language_info": {
   "codemirror_mode": {
    "name": "ipython",
    "version": 3
   },
   "file_extension": ".py",
   "mimetype": "text/x-python",
   "name": "python",
   "nbconvert_exporter": "python",
   "pygments_lexer": "ipython3",
   "version": "3.10.16"
  }
 },
 "nbformat": 4,
 "nbformat_minor": 5
}
