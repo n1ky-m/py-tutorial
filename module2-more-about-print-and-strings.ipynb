{
 "cells": [
  {
   "cell_type": "code",
   "execution_count": 2,
   "id": "b1e64a37-7694-41c5-807c-efbe26f87600",
   "metadata": {},
   "outputs": [
    {
     "data": {
      "text/plain": [
       "6"
      ]
     },
     "execution_count": 2,
     "metadata": {},
     "output_type": "execute_result"
    }
   ],
   "source": [
    "len('Hello!')"
   ]
  },
  {
   "cell_type": "code",
   "execution_count": 3,
   "id": "91926173-8cd2-4807-9b36-e011d4353844",
   "metadata": {},
   "outputs": [
    {
     "name": "stdout",
     "output_type": "stream",
     "text": [
      "Hello World!\n",
      "Python Speaking!\n"
     ]
    }
   ],
   "source": [
    "print('Hello World!') # default keyword argument is new line character\n",
    "print('Python Speaking!')"
   ]
  },
  {
   "cell_type": "code",
   "execution_count": 4,
   "id": "81dd7293-8fa2-4aab-a539-e9ce394884d1",
   "metadata": {},
   "outputs": [
    {
     "name": "stdout",
     "output_type": "stream",
     "text": [
      "Hello World!.Python Speaking!\n"
     ]
    }
   ],
   "source": [
    "print('Hello World!', end='.') # keyword arguments\n",
    "print('Python Speaking!')"
   ]
  },
  {
   "cell_type": "code",
   "execution_count": 6,
   "id": "5ace877d-1707-4ae6-944b-db031c9fdac2",
   "metadata": {},
   "outputs": [
    {
     "name": "stdout",
     "output_type": "stream",
     "text": [
      "Your first name is-John-Welcome!."
     ]
    }
   ],
   "source": [
    "first_name = 'John'\n",
    "print('Your first name is', first_name, 'Welcome!', sep='-', end='.')"
   ]
  },
  {
   "cell_type": "code",
   "execution_count": null,
   "id": "b3b18467-4607-4c05-be0e-03fdf6427a55",
   "metadata": {},
   "outputs": [],
   "source": []
  }
 ],
 "metadata": {
  "kernelspec": {
   "display_name": "Python 3 (ipykernel)",
   "language": "python",
   "name": "python3"
  },
  "language_info": {
   "codemirror_mode": {
    "name": "ipython",
    "version": 3
   },
   "file_extension": ".py",
   "mimetype": "text/x-python",
   "name": "python",
   "nbconvert_exporter": "python",
   "pygments_lexer": "ipython3",
   "version": "3.10.16"
  }
 },
 "nbformat": 4,
 "nbformat_minor": 5
}
