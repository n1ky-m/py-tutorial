{
 "cells": [
  {
   "cell_type": "code",
   "execution_count": null,
   "id": "a7f5568a-dda0-4a45-b8f1-826721d7f4e2",
   "metadata": {},
   "outputs": [],
   "source": [
    "spendings = [1346.0, 987.50, 1734.40, 2567.0, 3271.45, 2500.0, 2130.0, 2510.30, 2987.34, 3120.50, 4069.78, 1000.0]\n",
    "low = 0\n",
    "normal = 0 \n",
    "high = 0\n",
    "for price in spendings:\n",
    "    if price < 1000.0:\n",
    "        low += 1 \n",
    "    elif price >= 1000.0 and price <= 2500.0:\n",
    "        normal += 1 \n",
    "    elif price > 2500.0:\n",
    "        high += 1 \n",
    "print(f\"Numbers of months with low spendings: {low}, normal spendings: {normal}, high spendings: {high}.\")\n",
    "        "
   ]
  }
 ],
 "metadata": {
  "kernelspec": {
   "display_name": "Python 3 (ipykernel)",
   "language": "python",
   "name": "python3"
  },
  "language_info": {
   "codemirror_mode": {
    "name": "ipython",
    "version": 3
   },
   "file_extension": ".py",
   "mimetype": "text/x-python",
   "name": "python",
   "nbconvert_exporter": "python",
   "pygments_lexer": "ipython3",
   "version": "3.10.16"
  }
 },
 "nbformat": 4,
 "nbformat_minor": 5
}
