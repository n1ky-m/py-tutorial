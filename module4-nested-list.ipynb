{
 "cells": [
  {
   "cell_type": "code",
   "execution_count": null,
   "id": "f60e38e3-14d6-4c24-ac0c-ff54e427f60e",
   "metadata": {},
   "outputs": [],
   "source": [
    "numbers = [1, 2, 3, 4]"
   ]
  },
  {
   "cell_type": "code",
   "execution_count": null,
   "id": "2fd10c9b-7822-45ec-86ef-f23be9649771",
   "metadata": {},
   "outputs": [],
   "source": [
    "countries = ['UK', 'US', 'Germany']"
   ]
  },
  {
   "cell_type": "code",
   "execution_count": 1,
   "id": "ad1ba1cd-ef5d-4c6b-a239-8dfa9e471b31",
   "metadata": {},
   "outputs": [
    {
     "data": {
      "text/plain": [
       "[1, 2, 3]"
      ]
     },
     "execution_count": 1,
     "metadata": {},
     "output_type": "execute_result"
    }
   ],
   "source": [
    "cells = [[1, 2, 3],[4, 5, 6]]\n",
    "cells[0]"
   ]
  },
  {
   "cell_type": "code",
   "execution_count": 2,
   "id": "c78dbd11-74d4-4e3d-8ba3-451da7db62e4",
   "metadata": {},
   "outputs": [
    {
     "data": {
      "text/plain": [
       "1"
      ]
     },
     "execution_count": 2,
     "metadata": {},
     "output_type": "execute_result"
    }
   ],
   "source": [
    "cells[0][0]"
   ]
  },
  {
   "cell_type": "code",
   "execution_count": 3,
   "id": "dbe31de6-464e-41d3-b855-35ecd134927b",
   "metadata": {},
   "outputs": [
    {
     "name": "stdout",
     "output_type": "stream",
     "text": [
      "element: 1\n",
      "element: 2\n",
      "element: 3\n",
      "element: 4\n",
      "element: 5\n",
      "element: 6\n"
     ]
    }
   ],
   "source": [
    "cells = [[1, 2, 3],[4, 5, 6]]\n",
    "for x in cells:\n",
    "    for y in x:\n",
    "        print('element:', y)"
   ]
  },
  {
   "cell_type": "code",
   "execution_count": null,
   "id": "fbf79de9-4367-4f0f-b8d9-4c66b382cf09",
   "metadata": {},
   "outputs": [],
   "source": []
  }
 ],
 "metadata": {
  "kernelspec": {
   "display_name": "Python 3 (ipykernel)",
   "language": "python",
   "name": "python3"
  },
  "language_info": {
   "codemirror_mode": {
    "name": "ipython",
    "version": 3
   },
   "file_extension": ".py",
   "mimetype": "text/x-python",
   "name": "python",
   "nbconvert_exporter": "python",
   "pygments_lexer": "ipython3",
   "version": "3.12.7"
  }
 },
 "nbformat": 4,
 "nbformat_minor": 5
}
