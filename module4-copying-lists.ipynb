{
 "cells": [
  {
   "cell_type": "code",
   "execution_count": 2,
   "id": "0a9b701e-fe18-432d-9217-9b3c77b8d08a",
   "metadata": {},
   "outputs": [
    {
     "name": "stdout",
     "output_type": "stream",
     "text": [
      "John\n",
      "Niky\n"
     ]
    }
   ],
   "source": [
    "name_original = 'John'\n",
    "new_name = name_original\n",
    "name_original = 'Niky'\n",
    "print(new_name)\n",
    "print(name_original)"
   ]
  },
  {
   "cell_type": "code",
   "execution_count": 3,
   "id": "4bd47e53-a4ae-42d8-be7a-0cf7cdfb8b79",
   "metadata": {},
   "outputs": [
    {
     "name": "stdout",
     "output_type": "stream",
     "text": [
      "[-5, 2, 3]\n",
      "[-5, 2, 3]\n"
     ]
    }
   ],
   "source": [
    "list_original = [1, 2, 3]\n",
    "new_list = list_original\n",
    "list_original[0] = -5\n",
    "print(new_list)\n",
    "print(list_original)"
   ]
  },
  {
   "cell_type": "code",
   "execution_count": 4,
   "id": "85443a6f-9bad-440f-9215-2af401cef5e9",
   "metadata": {},
   "outputs": [
    {
     "name": "stdout",
     "output_type": "stream",
     "text": [
      "[1, 2, 3]\n",
      "[-5, 2, 3]\n"
     ]
    }
   ],
   "source": [
    "list_original = [1, 2, 3]\n",
    "new_list = list_original[:]\n",
    "list_original[0] = -5\n",
    "print(new_list)\n",
    "print(list_original)"
   ]
  },
  {
   "cell_type": "code",
   "execution_count": null,
   "id": "fc3c2038-27ce-4caa-b6a9-8963629963f0",
   "metadata": {},
   "outputs": [],
   "source": []
  }
 ],
 "metadata": {
  "kernelspec": {
   "display_name": "Python 3 (ipykernel)",
   "language": "python",
   "name": "python3"
  },
  "language_info": {
   "codemirror_mode": {
    "name": "ipython",
    "version": 3
   },
   "file_extension": ".py",
   "mimetype": "text/x-python",
   "name": "python",
   "nbconvert_exporter": "python",
   "pygments_lexer": "ipython3",
   "version": "3.10.16"
  }
 },
 "nbformat": 4,
 "nbformat_minor": 5
}
