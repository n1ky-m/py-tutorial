{
 "cells": [
  {
   "cell_type": "code",
   "execution_count": 1,
   "id": "9fe5272e-6c58-4b05-8d43-19eef6ec7eb5",
   "metadata": {},
   "outputs": [
    {
     "name": "stdout",
     "output_type": "stream",
     "text": [
      "['New York City', 'London', 'Dallas', 'California']\n"
     ]
    }
   ],
   "source": [
    "list_us = ['New York City', 'London']\n",
    "list_uk = ['Dallas', 'California'] \n",
    "list_all = list_us + list_uk\n",
    "print(list_all)"
   ]
  },
  {
   "cell_type": "code",
   "execution_count": 2,
   "id": "0644f8dd-3976-4b43-af4b-e33d69641086",
   "metadata": {},
   "outputs": [
    {
     "name": "stdout",
     "output_type": "stream",
     "text": [
      "[0, 1, 0, 1, 0, 1, 0, 1, 0, 1, 0, 1, 0, 1, 0, 1, 0, 1, 0, 1]\n"
     ]
    }
   ],
   "source": [
    "list_number = [0, 1] * 10\n",
    "print(list_number)"
   ]
  },
  {
   "cell_type": "code",
   "execution_count": null,
   "id": "aa6b5ee5-7306-4c57-84a0-5c00af3808c8",
   "metadata": {},
   "outputs": [],
   "source": []
  }
 ],
 "metadata": {
  "kernelspec": {
   "display_name": "Python 3 (ipykernel)",
   "language": "python",
   "name": "python3"
  },
  "language_info": {
   "codemirror_mode": {
    "name": "ipython",
    "version": 3
   },
   "file_extension": ".py",
   "mimetype": "text/x-python",
   "name": "python",
   "nbconvert_exporter": "python",
   "pygments_lexer": "ipython3",
   "version": "3.12.7"
  }
 },
 "nbformat": 4,
 "nbformat_minor": 5
}
